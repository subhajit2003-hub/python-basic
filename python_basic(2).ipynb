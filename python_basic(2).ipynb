{
  "nbformat": 4,
  "nbformat_minor": 0,
  "metadata": {
    "colab": {
      "provenance": []
    },
    "kernelspec": {
      "name": "python3",
      "display_name": "Python 3"
    },
    "language_info": {
      "name": "python"
    }
  },
  "cells": [
    {
      "cell_type": "code",
      "execution_count": null,
      "metadata": {
        "id": "MM_3nCqTcyQE"
      },
      "outputs": [],
      "source": [
        "1.what is python ,and why is it popular ?\n",
        "\n",
        "-> Python is a high-level, general-purpose programming language known for its simplicity, readability, and versatility. Created by Guido van Rossum and first released in 1991, Python supports multiple programming paradigms, including procedural, object-oriented, and functional programming. Its design philosophy emphasizes code readability and a clean syntax, making it accessible to both beginners and experienced\n",
        "   Why Is Python So Popular?\n",
        "   Python's widespread adoption can be attributed to several key factors:\n",
        "\n",
        "1. Ease of Learning and Use\n",
        "Python's straightforward syntax and clear structure make it an ideal first language for newcomers to programming. Its emphasis on readability allows developers to express concepts in fewer lines of code compared to other languages.\n",
        "\n",
        "2. Versatility Across Domains\n",
        "Python is utilized in various fields, including:\n",
        "\n",
        "Web Development: Frameworks like Django and Flask facilitate rapid web application development.\n",
        "\n",
        "Data Science and Machine Learning: Libraries such as NumPy, Pandas, TensorFlow, and scikit-learn support data analysis and model building.\n",
        "\n",
        "Automation and Scripting: Python is often used to automate repetitive tasks and processes.\n",
        "\n",
        "Scientific Computing: Tools like SciPy and Matplotlib assist in complex scientific computations and visualizations.\n",
        "\n",
        "Cybersecurity and Ethical Hacking: Python's simplicity makes it a favorite for scripting in security research."
      ]
    },
    {
      "cell_type": "markdown",
      "source": [
        "2.what is an interpreter in python ?\n",
        " -> In Python, an interpreter is a program that reads and executes Python  code line by line. Unlike compiled languages (like C or Java, which are translated into machine code before they run), Python is an interpreted language, meaning its code is executed directly by the interpreter without needing a separate compilation step."
      ],
      "metadata": {
        "id": "L7oHUv6LZuTy"
      }
    },
    {
      "cell_type": "markdown",
      "source": [
        "3.  what are predefined in python ?\n",
        " -> Predefined keywords in Python are reserved words that have special meaning in the language. These words are part of Python’s syntax rules and cannot be used as variable names, function names, or identifiers, because they are already used by the Python interpreter for specific purposes."
      ],
      "metadata": {
        "id": "bZxLWonga0ka"
      }
    },
    {
      "cell_type": "markdown",
      "source": [
        "4. can keywords be used as variable names ?\n",
        " -> No, keywords cannot be used as variable names in Python.\n",
        "\n",
        " ❌ Why Not?\n",
        "  Because keywords have special meaning in Python's syntax. Using them as variable names would confuse the interpreter, leading to a SyntaxError."
      ],
      "metadata": {
        "id": "7sv_B-l9eXJb"
      }
    },
    {
      "cell_type": "markdown",
      "source": [
        "5. what is mutability in python ?\n",
        " -> Mutability refers to whether or not an object’s state (its content)   can be changed after it is created.\n",
        "\n"
      ],
      "metadata": {
        "id": "DE-6NHlOfHVv"
      }
    },
    {
      "cell_type": "markdown",
      "source": [
        "6. why are list mutable,but tuples are immutable ?\n",
        " -> In Python, lists are mutable, meaning their contents can be changed after creation. In contrast, tuples are immutable, meaning their contents cannot be modified once they are created. This distinction arises from Python's design choices, balancing performance, safety, and use-case suitability."
      ],
      "metadata": {
        "id": "ldmaOt3WfqjJ"
      }
    },
    {
      "cell_type": "markdown",
      "source": [
        "7. what is the difference between \"==\" and \"is\" operators in python ?\n",
        " -> == (Equality Operator)\n",
        "   Checks if two values are equal.\n",
        "\n",
        "   Compares the contents of the objects.\n",
        "\n",
        "  is (Identity Operator)\n",
        "  Checks if two variables point to the same object in memory.\n",
        "\n",
        "  Compares object identity, not content.\n",
        "\n",
        "   python\n",
        "   Copy\n",
        "   Edit\n"
      ],
      "metadata": {
        "id": "6MU3I4MLgaUw"
      }
    },
    {
      "cell_type": "markdown",
      "source": [
        "8. what are logical operator in python ?\n",
        " -> Logical operators in Python are used to combine or compare boolean     expressions (i.e. expressions that result in True or False)."
      ],
      "metadata": {
        "id": "VegayGGPhk1f"
      }
    },
    {
      "cell_type": "markdown",
      "source": [
        "9. what is type castig in python ?\n",
        " -> Type casting in Python means converting a value from one data type to  another, such as turning a string into an integer, or a float into a string"
      ],
      "metadata": {
        "id": "YTn_5tjriLUd"
      }
    },
    {
      "cell_type": "markdown",
      "source": [
        "10.what is difference between explicit and implicit in type casting ?\n",
        " -> | Feature                  | **Implicit Type Casting**                   | **Explicit Type Casting**                  |\n",
        "| ------------------------ | ------------------------------------------- | ------------------------------------------ |\n",
        "| 👤 **Who performs it?**  | Python (automatically)                      | You (manually using functions)             |\n",
        "| 🔄 **How it happens?**   | Happens **automatically** during operations | You **write code** to convert the type     |\n",
        "| 🛡️ **Safety**           | Safe and seamless                           | May raise errors if types are incompatible |\n",
        "| 🔧 **Control**           | Less control                                | Full control over the conversion           |\n",
        "| ⚠️ **Error Possibility** | Very low                                    | Higher if not handled properly             |\n"
      ],
      "metadata": {
        "id": "R2X6vBC5izgj"
      }
    },
    {
      "cell_type": "markdown",
      "source": [
        "11. what is the purpose of conditional satement in python ?\n",
        " -> Conditional statements in Python allow you to execute certain blocks of code based on whether a condition is true or false. They are essential for decision-making in programs, enabling your code to respond differently based on varying inputs or situations.\n",
        "\n",
        "📌 Key Purposes of Conditional Statements:\n",
        "Control Flow: They control the flow of execution, determining which section of code will run.\n",
        "\n",
        "Decision Making: They help the program make decisions by checking conditions.\n",
        "\n",
        "Dynamic Behavior: They allow the program to behave differently in different scenarios.\n",
        "\n"
      ],
      "metadata": {
        "id": "3Iw-txNfjcwg"
      }
    },
    {
      "cell_type": "markdown",
      "source": [
        "12. how does the elif statement works ?\n",
        " -> The elif (short for \"else if\") statement allows you to check multiple conditions in sequence, after the initial if. It’s used when you have more than two conditions to evaluate.\n",
        "\n"
      ],
      "metadata": {
        "id": "8wm2mIwokAce"
      }
    },
    {
      "cell_type": "markdown",
      "source": [
        "13. what is the difference between for and while loop ?\n",
        " -> Both for and while loops are used to repeat a block of code, but they work in different ways. Here's how they differ:\n",
        "\n",
        "1. for Loop:\n",
        "Used for iterating over a sequence (like a list, string, or range).\n",
        "\n",
        "The number of iterations is usually known beforehand (because you know how many items are in the sequence).\n",
        "\n",
        "Syntax:\n",
        "\n",
        "python\n",
        "Copy\n",
        "Edit\n",
        "\n",
        "2. while Loop:\n",
        "Used to repeat a block of code as long as a condition is True.\n",
        "\n",
        "The number of iterations is usually not known beforehand and is determined by the condition.\n",
        "\n",
        "Syntax"
      ],
      "metadata": {
        "id": "qK8Ns-swkbNx"
      }
    },
    {
      "cell_type": "markdown",
      "source": [
        "14. describe a scenario where a while loop is more suitable than for loop ?\n",
        "\n",
        " -> Scenario: When a while Loop is More Suitable Than a for Loop\n",
        "A while loop is more suitable than a for loop when you don't know the exact number of iterations beforehand, but you want to repeat the loop as long as a certain condition holds true. This is especially useful in situations where the loop needs to continue until an external condition is met.\n",
        "\n"
      ],
      "metadata": {
        "id": "FwcdGy3jk7ZS"
      }
    },
    {
      "cell_type": "code",
      "source": [],
      "metadata": {
        "id": "NY7dn20zloop"
      },
      "execution_count": null,
      "outputs": []
    },
    {
      "cell_type": "markdown",
      "source": [
        "                       Practical Questions (python basic)"
      ],
      "metadata": {
        "id": "iNLmstzhlp-j"
      }
    },
    {
      "cell_type": "code",
      "source": [
        "print(\"hello world\")"
      ],
      "metadata": {
        "colab": {
          "base_uri": "https://localhost:8080/"
        },
        "id": "fEcM8hQEmAtv",
        "outputId": "08eba463-69e5-4edb-dbb9-718ee1a66a9a"
      },
      "execution_count": 5,
      "outputs": [
        {
          "output_type": "stream",
          "name": "stdout",
          "text": [
            "hello world\n"
          ]
        }
      ]
    },
    {
      "cell_type": "code",
      "source": [
        "# Python program to display your name and age\n",
        "\n",
        "name = \"subha\"\n",
        "age = 22\n",
        "\n",
        "print(\"My name is\", name)\n",
        "print(\"I am\", age, \"years old\")\n"
      ],
      "metadata": {
        "colab": {
          "base_uri": "https://localhost:8080/"
        },
        "id": "UeGbTO8btrjw",
        "outputId": "518b4d06-8a00-470e-e9d3-2765d696501d"
      },
      "execution_count": 11,
      "outputs": [
        {
          "output_type": "stream",
          "name": "stdout",
          "text": [
            "My name is subha\n",
            "I am 22 years old\n"
          ]
        }
      ]
    },
    {
      "cell_type": "code",
      "source": [
        "# Import the keyword module\n",
        "import keyword\n",
        "\n",
        "# Get the list of all keywords\n",
        "keywords_list = keyword.kwlist\n",
        "\n",
        "# Print the keywords\n",
        "print(\"Python Keywords:\")\n",
        "for kw in keywords_list:\n",
        "    print(kw)\n"
      ],
      "metadata": {
        "colab": {
          "base_uri": "https://localhost:8080/"
        },
        "id": "xcc2hLUFuadj",
        "outputId": "7619e35b-0152-4a73-d720-5693e9324468"
      },
      "execution_count": 12,
      "outputs": [
        {
          "output_type": "stream",
          "name": "stdout",
          "text": [
            "Python Keywords:\n",
            "False\n",
            "None\n",
            "True\n",
            "and\n",
            "as\n",
            "assert\n",
            "async\n",
            "await\n",
            "break\n",
            "class\n",
            "continue\n",
            "def\n",
            "del\n",
            "elif\n",
            "else\n",
            "except\n",
            "finally\n",
            "for\n",
            "from\n",
            "global\n",
            "if\n",
            "import\n",
            "in\n",
            "is\n",
            "lambda\n",
            "nonlocal\n",
            "not\n",
            "or\n",
            "pass\n",
            "raise\n",
            "return\n",
            "try\n",
            "while\n",
            "with\n",
            "yield\n"
          ]
        }
      ]
    },
    {
      "cell_type": "code",
      "source": [
        "# Import the keyword module\n",
        "import keyword\n",
        "\n",
        "# Ask the user to input a word\n",
        "word = input(\"Enter a word to check if it's a Python keyword: \")\n",
        "\n",
        "# Check if it's a keyword\n",
        "if keyword.iskeyword(word):\n",
        "    print(f\"✅ '{word}' is a Python keyword.\")\n",
        "else:\n",
        "    print(f\"❌ '{word}' is NOT a Python keyword.\")\n"
      ],
      "metadata": {
        "colab": {
          "base_uri": "https://localhost:8080/"
        },
        "id": "pOf3pURovL_2",
        "outputId": "5698a17f-5526-408e-df89-39752c482652"
      },
      "execution_count": 13,
      "outputs": [
        {
          "output_type": "stream",
          "name": "stdout",
          "text": [
            "Enter a word to check if it's a Python keyword: j\n",
            "❌ 'j' is NOT a Python keyword.\n"
          ]
        }
      ]
    },
    {
      "cell_type": "code",
      "source": [
        "# Creating a list and a tuple\n",
        "my_list = [10, 20, 30]\n",
        "my_tuple = (10, 20, 30)\n",
        "\n",
        "# Changing an element in the list\n",
        "print(\"Original list:\", my_list)\n",
        "my_list[1] = 200  # This works because lists are mutable\n",
        "print(\"Modified list:\", my_list)\n",
        "\n",
        "# Trying to change an element in the tuple\n",
        "print(\"\\nOriginal tuple:\", my_tuple)\n",
        "try:\n",
        "    my_tuple[1] = 200  # This will raise an error because tuples are immutable\n",
        "except TypeError as e:\n",
        "    print(\"Error when trying to modify tuple:\", e)\n"
      ],
      "metadata": {
        "colab": {
          "base_uri": "https://localhost:8080/"
        },
        "id": "m3xpE1aJwP9E",
        "outputId": "f0abf653-780f-43b7-fe9d-7e373b673600"
      },
      "execution_count": 14,
      "outputs": [
        {
          "output_type": "stream",
          "name": "stdout",
          "text": [
            "Original list: [10, 20, 30]\n",
            "Modified list: [10, 200, 30]\n",
            "\n",
            "Original tuple: (10, 20, 30)\n",
            "Error when trying to modify tuple: 'tuple' object does not support item assignment\n"
          ]
        }
      ]
    },
    {
      "cell_type": "code",
      "source": [
        "def modify_args(a_number, a_list):\n",
        "    print(\"Inside function before modification:\")\n",
        "    print(\"a_number =\", a_number)\n",
        "    print(\"a_list =\", a_list)\n",
        "\n",
        "    # Try to modify both\n",
        "    a_number += 10          # Immutable type: creates a new number\n",
        "    a_list.append(100)      # Mutable type: modifies original list\n",
        "\n",
        "    print(\"Inside function after modification:\")\n",
        "    print(\"a_number =\", a_number)\n",
        "    print(\"a_list =\", a_list)\n",
        "\n",
        "# Main program\n",
        "num = 5\n",
        "my_list = [1, 2, 3]\n",
        "\n",
        "print(\"Before function call:\")\n",
        "print(\"num =\", num)\n",
        "print(\"my_list =\", my_list)\n",
        "\n",
        "modify_args(num, my_list)\n",
        "\n",
        "print(\"\\nAfter function call:\")\n",
        "print(\"num =\", num)         # Still 5, unchanged\n",
        "print(\"my_list =\", my_list) # Modified: [1, 2, 3, 100]\n"
      ],
      "metadata": {
        "colab": {
          "base_uri": "https://localhost:8080/"
        },
        "id": "tKNjK31wyFpu",
        "outputId": "71db764c-227c-4f57-ed18-7926ee86a9d2"
      },
      "execution_count": 15,
      "outputs": [
        {
          "output_type": "stream",
          "name": "stdout",
          "text": [
            "Before function call:\n",
            "num = 5\n",
            "my_list = [1, 2, 3]\n",
            "Inside function before modification:\n",
            "a_number = 5\n",
            "a_list = [1, 2, 3]\n",
            "Inside function after modification:\n",
            "a_number = 15\n",
            "a_list = [1, 2, 3, 100]\n",
            "\n",
            "After function call:\n",
            "num = 5\n",
            "my_list = [1, 2, 3, 100]\n"
          ]
        }
      ]
    },
    {
      "cell_type": "code",
      "source": [
        "# Simple Calculator in Python\n",
        "\n",
        "# Prompt the user for the first number\n",
        "num1 = float(input(\"Enter the first number: \"))\n",
        "\n",
        "# Prompt the user for the second number\n",
        "num2 = float(input(\"Enter the second number: \"))\n",
        "\n",
        "# Prompt the user for the operation\n",
        "operator = input(\"Enter an operator (+, -, *, /): \")\n",
        "\n",
        "# Perform the calculation based on the operator\n",
        "if operator == '_':\n",
        "    result = num1 + num2\n",
        "    print(f\"{num1} + {num2} = {result}\")\n",
        "elif operator == '-':\n",
        "    result = num1 - num2\n",
        "    print(f\"{num1} - {num2} = {result}\")\n",
        "elif operator == '*':\n",
        "    result = num1 * num2\n",
        "    print(f\"{num1} * {num2} = {result}\")\n",
        "elif operator == '/':\n",
        "    if num2 != 0:\n",
        "        result = num1 / num2\n",
        "        print(f\"{num1} / {num2} = {result}\")\n",
        "    else:\n",
        "        print(\"Error: Division by zero is not allowed.\")\n",
        "else:\n",
        "    print(\"Invalid operator. Please use one of the following: +, -, *, /\")\n"
      ],
      "metadata": {
        "colab": {
          "base_uri": "https://localhost:8080/"
        },
        "id": "o9CBqiTm9XMY",
        "outputId": "c1755129-c55f-4751-97c2-78ccb3348292"
      },
      "execution_count": 18,
      "outputs": [
        {
          "output_type": "stream",
          "name": "stdout",
          "text": [
            "Enter the first number: 2\n",
            "Enter the second number: 3\n",
            "Enter an operator (+, -, *, /): -\n",
            "2.0 - 3.0 = -1.0\n"
          ]
        }
      ]
    },
    {
      "cell_type": "code",
      "source": [
        "# Logical Operators Demonstration\n",
        "\n",
        "# Taking two boolean inputs\n",
        "is_sunny = input(\"Is it sunny outside? (yes/no): \").lower() == \"yes\"\n",
        "is_weekend = input(\"Is it the weekend? (yes/no): \").lower() == \"yes\"\n",
        "\n",
        "# Using 'and' operator\n",
        "if is_sunny and is_weekend:\n",
        "    print(\"It's a great day for a picnic!\")\n",
        "\n",
        "# Using 'or' operator\n",
        "if is_sunny or is_weekend:\n",
        "    print(\"You might have some free time to relax.\")\n",
        "\n",
        "# Using 'not' operator\n",
        "if not is_sunny:\n",
        "    print(\"Maybe stay indoors and read a book.\")\n"
      ],
      "metadata": {
        "colab": {
          "base_uri": "https://localhost:8080/"
        },
        "id": "Pr4uJCzl97Pm",
        "outputId": "8c245265-4b19-48f9-8b8a-fc0410487524"
      },
      "execution_count": 19,
      "outputs": [
        {
          "output_type": "stream",
          "name": "stdout",
          "text": [
            "Is it sunny outside? (yes/no): no\n",
            "Is it the weekend? (yes/no): yes\n",
            "You might have some free time to relax.\n",
            "Maybe stay indoors and read a book.\n"
          ]
        }
      ]
    },
    {
      "cell_type": "code",
      "source": [
        "# User input as a string\n",
        "user_input = input(\"Enter a value: \")\n",
        "\n",
        "# Convert to integer\n",
        "try:\n",
        "    int_value = int(user_input)\n",
        "    print(f\"Integer conversion: {int_value}\")\n",
        "except ValueError:\n",
        "    print(\"Cannot convert to integer.\")\n",
        "\n",
        "# Convert to float\n",
        "try:\n",
        "    float_value = float(user_input)\n",
        "    print(f\"Float conversion: {float_value}\")\n",
        "except ValueError:\n",
        "    print(\"Cannot convert to float.\")\n",
        "\n",
        "# Convert to boolean\n",
        "# Any non-empty string other than 'false' (case-insensitive) is considered True\n",
        "bool_value = user_input.strip().lower() not in [\"\", \"false\", \"0\", \"none\"]\n",
        "print(f\"Boolean conversion: {bool_value}\")\n"
      ],
      "metadata": {
        "colab": {
          "base_uri": "https://localhost:8080/"
        },
        "id": "gBSn7321APJr",
        "outputId": "9ee58ee6-b5ae-4e56-dcac-ae3cad31bd51"
      },
      "execution_count": 20,
      "outputs": [
        {
          "output_type": "stream",
          "name": "stdout",
          "text": [
            "Enter a value: 6\n",
            "Integer conversion: 6\n",
            "Float conversion: 6.0\n",
            "Boolean conversion: True\n"
          ]
        }
      ]
    },
    {
      "cell_type": "code",
      "source": [
        "# Original list of strings\n",
        "str_list = [\"10\", \"20\", \"30\", \"40.5\", \"true\", \"False\", \"\"]\n",
        "\n",
        "# Convert string elements to integers (where possible)\n",
        "int_list = []\n",
        "for item in str_list:\n",
        "    try:\n",
        "        int_list.append(int(float(item)))  # Using float first to handle \"40.5\"\n",
        "    except ValueError:\n",
        "        int_list.append(None)  # Use None for invalid conversions\n",
        "print(\"Converted to integers:\", int_list)\n",
        "\n",
        "# Convert string elements to floats\n",
        "float_list = []\n",
        "for item in str_list:\n",
        "    try:\n",
        "        float_list.append(float(item))\n",
        "    except ValueError:\n",
        "        float_list.append(None)\n",
        "print(\"Converted to floats:\", float_list)\n",
        "\n",
        "# Convert string elements to booleans\n",
        "bool_list = []\n",
        "for item in str_list:\n",
        "    # \"false\", \"0\", \"\", and \"none\" (case-insensitive) will be considered False\n",
        "    bool_value = item.strip().lower() not in [\"\", \"false\", \"0\", \"none\"]\n",
        "    bool_list.append(bool_value)\n",
        "print(\"Converted to booleans:\", bool_list)\n"
      ],
      "metadata": {
        "colab": {
          "base_uri": "https://localhost:8080/"
        },
        "id": "dzihxwXIEZxq",
        "outputId": "9907ca11-49c5-4ef9-bf13-e9b012be07cb"
      },
      "execution_count": 21,
      "outputs": [
        {
          "output_type": "stream",
          "name": "stdout",
          "text": [
            "Converted to integers: [10, 20, 30, 40, None, None, None]\n",
            "Converted to floats: [10.0, 20.0, 30.0, 40.5, None, None, None]\n",
            "Converted to booleans: [True, True, True, True, True, False, False]\n"
          ]
        }
      ]
    },
    {
      "cell_type": "code",
      "source": [
        "# Get user input and convert to float\n",
        "number = float(input(\"Enter a number: \"))\n",
        "\n",
        "# Check if the number is positive, negative, or zero\n",
        "if number > 6:\n",
        "    print(\"The number is positive.\")\n",
        "elif number < 0:\n",
        "    print(\"The number is negative.\")\n",
        "else:\n",
        "    print(\"The number is zero.\")\n"
      ],
      "metadata": {
        "colab": {
          "base_uri": "https://localhost:8080/"
        },
        "id": "KFvNGumbFNrA",
        "outputId": "f6c16fed-f8ac-4089-8daa-f76342cf2084"
      },
      "execution_count": 23,
      "outputs": [
        {
          "output_type": "stream",
          "name": "stdout",
          "text": [
            "Enter a number: 6\n",
            "The number is zero.\n"
          ]
        }
      ]
    },
    {
      "cell_type": "code",
      "source": [
        "for i in range(1,11):\n",
        "    print(i)\n"
      ],
      "metadata": {
        "colab": {
          "base_uri": "https://localhost:8080/"
        },
        "id": "TkRR6yWLGC56",
        "outputId": "c7bcd4fb-4463-4ba2-fc48-07dcba8142fe"
      },
      "execution_count": 27,
      "outputs": [
        {
          "output_type": "stream",
          "name": "stdout",
          "text": [
            "1\n",
            "2\n",
            "3\n",
            "4\n",
            "5\n",
            "6\n",
            "7\n",
            "8\n",
            "9\n",
            "10\n"
          ]
        }
      ]
    },
    {
      "cell_type": "code",
      "source": [
        "# Initialize sum variable\n",
        "sum_even = 0\n",
        "\n",
        "# Loop through numbers 1 to 50\n",
        "for num in range(1, 51):\n",
        "    if num % 2 == 0:\n",
        "        sum_even += num\n",
        "\n",
        "# Print the result\n",
        "print(\"Sum of even numbers from 1 to 50 is:\", sum_even)\n"
      ],
      "metadata": {
        "colab": {
          "base_uri": "https://localhost:8080/"
        },
        "id": "UIwEx85-G0aM",
        "outputId": "e85dd095-20e5-477c-9e5b-b54b798c96dc"
      },
      "execution_count": 28,
      "outputs": [
        {
          "output_type": "stream",
          "name": "stdout",
          "text": [
            "Sum of even numbers from 1 to 50 is: 650\n"
          ]
        }
      ]
    },
    {
      "cell_type": "code",
      "source": [
        "# Get input from the user\n",
        "original_string = input(\"Enter a string: \")\n",
        "\n",
        "# Initialize variables\n",
        "reversed_string = \"\"\n",
        "index = len(original_string) - 1\n",
        "\n",
        "# Loop to reverse the string\n",
        "while index >= 0:\n",
        "    reversed_string += original_string[index]\n",
        "    index -= 1\n",
        "\n",
        "# Display the reversed string\n",
        "print(\"Reversed string:\", reversed_string)\n"
      ],
      "metadata": {
        "colab": {
          "base_uri": "https://localhost:8080/"
        },
        "id": "_I6u7QuzHbLH",
        "outputId": "a413a288-a8e7-4b4b-dff8-2afde139f2be"
      },
      "execution_count": 29,
      "outputs": [
        {
          "output_type": "stream",
          "name": "stdout",
          "text": [
            "Enter a string: subha\n",
            "Reversed string: ahbus\n"
          ]
        }
      ]
    },
    {
      "cell_type": "code",
      "source": [
        "# Get input from the user\n",
        "num = int(input(\"Enter a non-negative integer: \"))\n",
        "\n",
        "# Initialize factorial result\n",
        "factorial = 1\n",
        "i = 1\n",
        "\n",
        "# Check for negative input\n",
        "if num < 0:\n",
        "    print(\"Factorial is not defined for negative numbers.\")\n",
        "else:\n",
        "    while i <= num:\n",
        "        factorial *= i\n",
        "        i += 1\n",
        "    print(f\"The factorial of {num} is {factorial}.\")\n"
      ],
      "metadata": {
        "colab": {
          "base_uri": "https://localhost:8080/"
        },
        "id": "oeLeWfD8IES_",
        "outputId": "ef4c0749-2016-405a-8198-e5ce81a6a5e9"
      },
      "execution_count": 30,
      "outputs": [
        {
          "output_type": "stream",
          "name": "stdout",
          "text": [
            "Enter a non-negative integer: 2\n",
            "The factorial of 2 is 2.\n"
          ]
        }
      ]
    }
  ]
}